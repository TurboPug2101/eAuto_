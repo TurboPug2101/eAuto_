{
  "nbformat": 4,
  "nbformat_minor": 0,
  "metadata": {
    "colab": {
      "provenance": [],
      "mount_file_id": "1YJ3h36_E661p7uVg1qssWMDsDjafV365",
      "authorship_tag": "ABX9TyNXRPBrEQLbS5TO8uqRAyaL",
      "include_colab_link": true
    },
    "kernelspec": {
      "name": "python3",
      "display_name": "Python 3"
    },
    "language_info": {
      "name": "python"
    }
  },
  "cells": [
    {
      "cell_type": "markdown",
      "metadata": {
        "id": "view-in-github",
        "colab_type": "text"
      },
      "source": [
        "<a href=\"https://colab.research.google.com/github/TurboPug2101/eAuto_/blob/main/eAuto2.ipynb\" target=\"_parent\"><img src=\"https://colab.research.google.com/assets/colab-badge.svg\" alt=\"Open In Colab\"/></a>"
      ]
    },
    {
      "cell_type": "code",
      "execution_count": null,
      "metadata": {
        "id": "49V7RRdcp0WM",
        "colab": {
          "base_uri": "https://localhost:8080/"
        },
        "outputId": "68493de9-f97d-4b81-e04e-0bda1b1a671f"
      },
      "outputs": [
        {
          "output_type": "stream",
          "name": "stdout",
          "text": [
            "Drive already mounted at /content/drive; to attempt to forcibly remount, call drive.mount(\"/content/drive\", force_remount=True).\n"
          ]
        }
      ],
      "source": [
        "from google.colab import drive\n",
        "drive.mount('/content/drive')"
      ]
    },
    {
      "cell_type": "code",
      "source": [
        "\n",
        "#Import the libraries\n",
        "import zipfile\n",
        "import os\n",
        "import pandas as pd\n",
        "zip_ref = zipfile.ZipFile('/content/drive/MyDrive/eAuto_photos.zip', 'r') #Opens the zip file in read mode\n",
        "zip_ref.extractall('/tmp') #Extracts the files into the /tmp folder\n",
        "zip_ref.close()"
      ],
      "metadata": {
        "id": "qGozJP0QqAeC"
      },
      "execution_count": null,
      "outputs": []
    },
    {
      "cell_type": "code",
      "source": [
        "def count_files_in_folder(folder_path):\n",
        "    count = 0\n",
        "\n",
        "    for root, dirs, files in os.walk(folder_path):\n",
        "        count += len(files)\n",
        "\n",
        "    return count"
      ],
      "metadata": {
        "id": "NUXBJmF-7lSV"
      },
      "execution_count": null,
      "outputs": []
    },
    {
      "cell_type": "code",
      "source": [
        "\n",
        "main_folder_path = '/tmp/photos/'\n",
        "\n",
        "# Create empty lists to store folder names and counts\n",
        "folder_names = []\n",
        "num_files_list = []\n",
        "\n",
        "# Iterate over subfolders\n",
        "for root, dirs, files in os.walk(main_folder_path):\n",
        "    for dir in dirs:\n",
        "        folder_path = os.path.join(root, dir)\n",
        "        num_files = count_files_in_folder(folder_path)\n",
        "\n",
        "        folder_names.append(folder_path)\n",
        "        num_files_list.append(num_files)\n",
        "\n",
        "# Create a DataFrame to display the results\n",
        "df = pd.DataFrame({'Folder': folder_names, 'Num Files': num_files_list})\n",
        "\n",
        "# Display the DataFrame\n",
        "print(df)"
      ],
      "metadata": {
        "colab": {
          "base_uri": "https://localhost:8080/"
        },
        "id": "m6Z90P92qFmF",
        "outputId": "d65ed071-3eb0-404d-ddc9-6aa8b71d6dc6"
      },
      "execution_count": null,
      "outputs": [
        {
          "output_type": "stream",
          "name": "stdout",
          "text": [
            "                   Folder  Num Files\n",
            "0      /tmp/photos/Honday         50\n",
            "1      /tmp/photos/Nissan        542\n",
            "2     /tmp/photos/Renault        584\n",
            "3        /tmp/photos/Ford        597\n",
            "4      /tmp/photos/Suzuki        578\n",
            "5  /tmp/photos/Volkswagen        252\n",
            "6      /tmp/photos/Toyota        621\n",
            "7        /tmp/photos/Tata        500\n",
            "8     /tmp/photos/Hyundai        556\n"
          ]
        }
      ]
    },
    {
      "cell_type": "code",
      "source": [
        "Total = df['Num Files'].sum()\n",
        "print(Total)"
      ],
      "metadata": {
        "colab": {
          "base_uri": "https://localhost:8080/"
        },
        "id": "E34cZaCg8ovP",
        "outputId": "7a4605d6-7054-431d-a1b5-a28933c5d96a"
      },
      "execution_count": null,
      "outputs": [
        {
          "output_type": "stream",
          "name": "stdout",
          "text": [
            "4280\n"
          ]
        }
      ]
    },
    {
      "cell_type": "code",
      "source": [
        "from google.colab import drive\n",
        "drive.mount('/content/drive')"
      ],
      "metadata": {
        "colab": {
          "base_uri": "https://localhost:8080/"
        },
        "id": "x9wPKlhh2EUm",
        "outputId": "bc420a85-c9e8-4118-ca9a-1970efec1b1b"
      },
      "execution_count": null,
      "outputs": [
        {
          "output_type": "stream",
          "name": "stdout",
          "text": [
            "Drive already mounted at /content/drive; to attempt to forcibly remount, call drive.mount(\"/content/drive\", force_remount=True).\n"
          ]
        }
      ]
    },
    {
      "cell_type": "code",
      "source": [
        "\n",
        "#Import the libraries\n",
        "import zipfile\n",
        "import os\n",
        "import pandas as pd\n",
        "zip_ref = zipfile.ZipFile('/content/drive/MyDrive/eAuto_photos2.zip', 'r') #Opens the zip file in read mode\n",
        "zip_ref.extractall('/tmp2') #Extracts the files into the /tmp folder\n",
        "zip_ref.close()"
      ],
      "metadata": {
        "id": "yAUdO9Gc2E2f"
      },
      "execution_count": null,
      "outputs": []
    },
    {
      "cell_type": "code",
      "source": [
        "\n",
        "len(os.listdir('/tmp2/eAuto_photos2/photos/'))\n"
      ],
      "metadata": {
        "colab": {
          "base_uri": "https://localhost:8080/"
        },
        "id": "uxsghb0g3ZPz",
        "outputId": "17bb9a9b-6131-45cc-9421-d759d7aaf644"
      },
      "execution_count": null,
      "outputs": [
        {
          "output_type": "execute_result",
          "data": {
            "text/plain": [
              "9"
            ]
          },
          "metadata": {},
          "execution_count": 7
        }
      ]
    },
    {
      "cell_type": "code",
      "source": [
        "main_folder_path = '/tmp2/eAuto_photos2/photos/'\n",
        "\n",
        "# Create empty lists to store folder names and counts\n",
        "folder_names = []\n",
        "num_files_list = []\n",
        "\n",
        "# Iterate over subfolders\n",
        "for root, dirs, files in os.walk(main_folder_path):\n",
        "    for dir in dirs:\n",
        "        folder_path = os.path.join(root, dir)\n",
        "        num_files = count_files_in_folder(folder_path)\n",
        "\n",
        "        folder_names.append(folder_path)\n",
        "        num_files_list.append(num_files)\n",
        "\n",
        "# Create a DataFrame to display the results\n",
        "df = pd.DataFrame({'Folder': folder_names, 'Num Filess': num_files_list})\n",
        "\n",
        "# Display the DataFrame\n",
        "print(df)"
      ],
      "metadata": {
        "colab": {
          "base_uri": "https://localhost:8080/"
        },
        "id": "vBSGws0M3DQo",
        "outputId": "d9922e00-25b9-4149-e071-0afba57a8e6d"
      },
      "execution_count": null,
      "outputs": [
        {
          "output_type": "stream",
          "name": "stdout",
          "text": [
            "                                  Folder  Num Filess\n",
            "0      /tmp2/eAuto_photos2/photos/Honday          37\n",
            "1      /tmp2/eAuto_photos2/photos/Nissan         319\n",
            "2     /tmp2/eAuto_photos2/photos/Renault         373\n",
            "3        /tmp2/eAuto_photos2/photos/Ford         345\n",
            "4      /tmp2/eAuto_photos2/photos/Suzuki         268\n",
            "5  /tmp2/eAuto_photos2/photos/Volkswagen         221\n",
            "6      /tmp2/eAuto_photos2/photos/Toyota         330\n",
            "7        /tmp2/eAuto_photos2/photos/Tata         184\n",
            "8     /tmp2/eAuto_photos2/photos/Hyundai         392\n"
          ]
        }
      ]
    },
    {
      "cell_type": "code",
      "source": [
        "Total2 = df['Num Filess'].sum()\n",
        "print(Total2)"
      ],
      "metadata": {
        "colab": {
          "base_uri": "https://localhost:8080/"
        },
        "id": "8Ylzh6wq3K9_",
        "outputId": "24d3d16d-cdab-4bcb-f11a-5053098e7e0e"
      },
      "execution_count": null,
      "outputs": [
        {
          "output_type": "stream",
          "name": "stdout",
          "text": [
            "2469\n"
          ]
        }
      ]
    },
    {
      "cell_type": "markdown",
      "source": [
        "# **PREVIOUS COUNT WAS 4280 BUT AFTER CLEANING THE DATASET(REMOVING UNUSABLE IMAGES ) WE ARE LEFT WITH 2469 IMAGES**"
      ],
      "metadata": {
        "id": "PHNI0WvW9lSJ"
      }
    },
    {
      "cell_type": "markdown",
      "source": [
        "2) THE DATASET IS STILL BIG ENOUGH TO TRAIN ML MODELS\n"
      ],
      "metadata": {
        "id": "2ynW_ynJ-CE4"
      }
    },
    {
      "cell_type": "markdown",
      "source": [
        "3) THE DATASET REQUIRES RESIZING OF IMAGES ,\n",
        "THE CURRENT DATASET HAD ALOT OF IRRELEVENT PHOTOS .\n",
        "MANY PHOTOS HAVE THE LOGOS BLURRED WHICH CAN BE A CHALLENGE"
      ],
      "metadata": {
        "id": "D3Guq8aB-QcX"
      }
    },
    {
      "cell_type": "markdown",
      "source": [
        "#  WE WILL PERFORM STANDARDIZATION TO THE DATASET TO TRAIN THE MODEL BETTER . WE CANNOT MANUALLY EDIT IMAGES.\n",
        "SOME DATA AUGMENTATION CAN BE DONE\n"
      ],
      "metadata": {
        "id": "mUMcEFdU_c8d"
      }
    },
    {
      "cell_type": "markdown",
      "source": [
        "# ** TASK 2 **\n",
        "\n",
        "---\n",
        "\n",
        "\n",
        "\n",
        "---\n",
        "\n",
        "\n",
        "\n"
      ],
      "metadata": {
        "id": "yXAFWu1bu9vz"
      }
    },
    {
      "cell_type": "code",
      "source": [
        "from PIL import Image"
      ],
      "metadata": {
        "id": "0TFtkerdvFVR"
      },
      "execution_count": null,
      "outputs": []
    },
    {
      "cell_type": "code",
      "source": [
        "dataset_dir ='/tmp2/eAuto_photos2/photos/';"
      ],
      "metadata": {
        "id": "wACer-SovPuK"
      },
      "execution_count": null,
      "outputs": []
    },
    {
      "cell_type": "code",
      "source": [
        "# for folder_name in os.listdir(dataset_dir):\n",
        "folder_path = \"/tmp2/eAuto_photos2/photos/Honday/\"\n",
        "if os.path.isdir(folder_path):\n",
        "        # Iterate over each image file in the folder\n",
        "        for filename in os.listdir(folder_path):\n",
        "            if filename.endswith(\".jpg\") or filename.endswith(\".png\") or filename.endswith(\".jpeg\") :\n",
        "                image_path = os.path.join(folder_path, filename)\n",
        "                # Open the image\n",
        "                image = Image.open(image_path)\n",
        "                # Get the size (width and height) of the image\n",
        "                width, height = image.size\n",
        "\n",
        "\n",
        "                print(f\"Width: {width}px\",f\"Height: {height}px\")\n",
        "\n"
      ],
      "metadata": {
        "colab": {
          "base_uri": "https://localhost:8080/"
        },
        "id": "oNzdVjj0vhSV",
        "outputId": "2146b7d3-a43d-4e01-c9ae-234628407d21"
      },
      "execution_count": null,
      "outputs": [
        {
          "output_type": "stream",
          "name": "stdout",
          "text": [
            "Width: 860px Height: 556px\n",
            "Width: 720px Height: 720px\n",
            "Width: 768px Height: 500px\n",
            "Width: 500px Height: 500px\n",
            "Width: 800px Height: 600px\n",
            "Width: 1170px Height: 780px\n",
            "Width: 2048px Height: 1344px\n",
            "Width: 1170px Height: 780px\n",
            "Width: 768px Height: 576px\n",
            "Width: 800px Height: 600px\n",
            "Width: 720px Height: 720px\n",
            "Width: 800px Height: 600px\n",
            "Width: 720px Height: 720px\n",
            "Width: 400px Height: 250px\n",
            "Width: 1600px Height: 1600px\n",
            "Width: 600px Height: 450px\n",
            "Width: 1000px Height: 1000px\n",
            "Width: 768px Height: 576px\n",
            "Width: 1920px Height: 1080px\n",
            "Width: 1440px Height: 959px\n",
            "Width: 1600px Height: 1200px\n",
            "Width: 1024px Height: 683px\n",
            "Width: 500px Height: 500px\n",
            "Width: 300px Height: 300px\n",
            "Width: 800px Height: 600px\n",
            "Width: 448px Height: 448px\n",
            "Width: 640px Height: 480px\n",
            "Width: 700px Height: 525px\n",
            "Width: 800px Height: 600px\n",
            "Width: 875px Height: 581px\n",
            "Width: 1600px Height: 1200px\n",
            "Width: 444px Height: 418px\n",
            "Width: 800px Height: 600px\n",
            "Width: 448px Height: 448px\n"
          ]
        }
      ]
    },
    {
      "cell_type": "code",
      "source": [
        "def smart_crop(image, target_aspect_ratio):\n",
        "    width, height = image.size\n",
        "    current_aspect_ratio = width / float(height)\n",
        "\n",
        "    if current_aspect_ratio > target_aspect_ratio:\n",
        "        new_width = int(target_aspect_ratio * height)\n",
        "        left = (width - new_width) // 2\n",
        "        right = left + new_width\n",
        "        box = (left, 0, right, height)\n",
        "    else:\n",
        "        new_height = int(width / target_aspect_ratio)\n",
        "        upper = (height - new_height) // 2\n",
        "        lower = upper + new_height\n",
        "        box = (0, upper, width, lower)\n",
        "\n",
        "    cropped_image = image.crop(box)\n",
        "    return cropped_image\n"
      ],
      "metadata": {
        "id": "7GEdVmMuwHh4"
      },
      "execution_count": null,
      "outputs": []
    },
    {
      "cell_type": "code",
      "source": [
        "\n",
        "dataset_dir = \"/tmp2/eAuto_photos2/photos/Honday/\"\n",
        "\n",
        "# for folder_name in os.listdir(dataset_dir):\n",
        "\n",
        "folder_path = \"/tmp2/eAuto_photos2/photos/Honday/\"\n",
        "# if os.path.isdir(folder_path):\n",
        "#         print(\"hheloow\")\n",
        "        # Iterate over each image file in the folder\n",
        "for filename in os.listdir(folder_path):\n",
        "            if filename.endswith(\".jpg\") or filename.endswith(\".png\") or filename.endswith(\".jpeg\"):\n",
        "                image_path = os.path.join(folder_path, filename)\n",
        "                image = Image.open(image_path)\n",
        "                # Perform cropping on the image\n",
        "               # print(\"hheloow\")\n",
        "                cropped_image = smart_crop(image, target_aspect_ratio)\n",
        "              #  print(\"hheloow\")\n",
        "                # Save the cropped image with a new filename\n",
        "                cropped_filename = \"cropped_\" + filename\n",
        "                cropped_image_path = os.path.join(folder_path, cropped_filename)\n",
        "                cropped_image.save(cropped_image_path)\n",
        "\n",
        "                # Print the size of the cropped image\n",
        "                cropped_width, cropped_height = cropped_image.size\n"
      ],
      "metadata": {
        "id": "GlnzTvfByuYX"
      },
      "execution_count": null,
      "outputs": []
    },
    {
      "cell_type": "code",
      "source": [
        "# for folder_name in os.listdir(dataset_dir):\n",
        "folder_path = \"/tmp2/eAuto_photos2/photos/Honday/\"\n",
        "if os.path.isdir(folder_path):\n",
        "        # Iterate over each image file in the folder\n",
        "        for filename in os.listdir(folder_path):\n",
        "            if filename.endswith(\".jpg\") or filename.endswith(\".png\") or filename.endswith(\".jpeg\") :\n",
        "                image_path = os.path.join(folder_path, filename)\n",
        "                # Open the image\n",
        "                image = Image.open(image_path)\n",
        "                # Get the size (width and height) of the image\n",
        "                width, height = image.size\n",
        "\n",
        "\n",
        "                print(f\"Width: {width}px\",f\"Height: {height}px\")\n",
        "\n"
      ],
      "metadata": {
        "id": "s2seHruOxY3n"
      },
      "execution_count": null,
      "outputs": []
    },
    {
      "cell_type": "markdown",
      "source": [
        "# **THE CROPPING FUNCTION WORKS PROPERLY**"
      ],
      "metadata": {
        "id": "aB8vQ2Ci7mo0"
      }
    },
    {
      "cell_type": "code",
      "source": [
        "\n",
        "\n",
        "dataset_dir = \"/tmp2/eAuto_photos2/photos/\"\n",
        "\n",
        "# Define the desired aspect ratio for the cropped images\n",
        "target_aspect_ratio = 1.0\n",
        "\n",
        "# Iterate over each folder in the dataset directory\n",
        "for folder_name in os.listdir(dataset_dir):\n",
        "    folder_path = os.path.join(dataset_dir, folder_name)\n",
        "    if os.path.isdir(folder_path):\n",
        "        # Iterate over each image file in the folder\n",
        "        for filename in os.listdir(folder_path):\n",
        "            if filename.endswith(\".jpg\") or filename.endswith(\".png\")or filename.endswith(\".jpeg\"):\n",
        "                image_path = os.path.join(folder_path, filename)\n",
        "                image = Image.open(image_path)\n",
        "                cropped_image = smart_crop(image, target_aspect_ratio)\n",
        "                # Save the cropped image to a new location or overwrite the original file\n",
        "                cropped_image.save(image_path)\n",
        "    print(\"cropping done\")"
      ],
      "metadata": {
        "colab": {
          "base_uri": "https://localhost:8080/"
        },
        "id": "S-lgmORJ74Zt",
        "outputId": "a09361bb-5a3f-4d64-a639-002aa91a719e"
      },
      "execution_count": null,
      "outputs": [
        {
          "output_type": "stream",
          "name": "stdout",
          "text": [
            "cropping done\n",
            "cropping done\n",
            "cropping done\n",
            "cropping done\n",
            "cropping done\n",
            "cropping done\n",
            "cropping done\n",
            "cropping done\n",
            "cropping done\n"
          ]
        }
      ]
    },
    {
      "cell_type": "markdown",
      "source": [
        "# **Appropriate smart copping has been done**\n",
        "\n",
        "---\n",
        "\n"
      ],
      "metadata": {
        "id": "HQAYeYdcQcbQ"
      }
    },
    {
      "cell_type": "code",
      "source": [
        "from PIL import Image\n",
        "\n",
        "folder_path = \"/tmp2/eAuto_photos2/photos/\"  # Replace with the actual path to the folder containing images\n",
        "\n",
        "# Iterate over each image file in the folder\n",
        "for filename in os.listdir(folder_path):\n",
        "    if filename.endswith(\".jpg\") or filename.endswith(\".png\") or filename.endswith(\".jpeg\"):\n",
        "        image_path = os.path.join(folder_path, filename)\n",
        "        image = Image.open(image_path)\n",
        "\n",
        "        # Perform image sharpening\n",
        "        sharpened_image = image.filter(ImageFilter.SHARPEN)\n",
        "\n",
        "        # Save the sharpened image\n",
        "        sharpened_image_path = os.path.join(folder_path, \"shar pened_\" + filename)\n",
        "        sharpened_image.save(sharpened_image_path)\n"
      ],
      "metadata": {
        "id": "T5lqAOnSPTko"
      },
      "execution_count": null,
      "outputs": []
    },
    {
      "cell_type": "markdown",
      "source": [
        "# *SHARPENING IS DONE*"
      ],
      "metadata": {
        "id": "EdId6EjQTZdD"
      }
    },
    {
      "cell_type": "markdown",
      "source": [
        "# **PERFORMING DATA AUGMENTATION**"
      ],
      "metadata": {
        "id": "zFlJ6Zn8ot7X"
      }
    },
    {
      "cell_type": "code",
      "source": [
        "from keras.preprocessing import image\n",
        "from keras.preprocessing.image import ImageDataGenerator"
      ],
      "metadata": {
        "id": "-MTLarlBjk08"
      },
      "execution_count": null,
      "outputs": []
    },
    {
      "cell_type": "code",
      "source": [
        "import os\n",
        "from shutil import copyfile\n",
        "from tensorflow.keras.preprocessing.image import ImageDataGenerator"
      ],
      "metadata": {
        "id": "Ykazpwo_rx4H"
      },
      "execution_count": null,
      "outputs": []
    },
    {
      "cell_type": "code",
      "source": [
        "datagen= ImageDataGenerator(\n",
        "    rotation_range=30,\n",
        "    shear_range= 0.2,\n",
        "    zoom_range=0.2,\n",
        "    horizontal_flip=True,\n",
        "    width_shift_range=0.2,\n",
        ")"
      ],
      "metadata": {
        "id": "Hu8ldN-aSThQ"
      },
      "execution_count": null,
      "outputs": []
    },
    {
      "cell_type": "code",
      "source": [
        "destination_folder = \"/tmp2/eAuto_photos2/photos_aug\"\n",
        "os.makedirs(destination_folder, exist_ok=True)\n",
        "print(\"created destination\")"
      ],
      "metadata": {
        "colab": {
          "base_uri": "https://localhost:8080/"
        },
        "id": "QD7mVpQKkZMf",
        "outputId": "257be588-bb15-4b85-ebc2-c7cb1d5f4993"
      },
      "execution_count": null,
      "outputs": [
        {
          "output_type": "stream",
          "name": "stdout",
          "text": [
            "created destination\n"
          ]
        }
      ]
    },
    {
      "cell_type": "code",
      "source": [
        "from PIL import Image\n",
        "import random\n",
        "import cv2"
      ],
      "metadata": {
        "id": "8PBvqTjH2VFU"
      },
      "execution_count": null,
      "outputs": []
    },
    {
      "cell_type": "code",
      "source": [
        "def augment_images(dir_name):\n",
        "    input_dir = f'/tmp2/eAuto_photos2/photos/{dir_name}'\n",
        "    output_dir = input_dir\n",
        "\n",
        "    datagen = ImageDataGenerator(\n",
        "        rotation_range=20,  # Randomly rotate images by 20 degrees\n",
        "        width_shift_range=0.1,  # Randomly shift the width by 10%\n",
        "        height_shift_range=0.1,  # Randomly shift the height by 10%\n",
        "        horizontal_flip=True,  # Randomly flip images horizontally\n",
        "        vertical_flip=True,  # Randomly flip images vertically\n",
        "        zoom_range=0.1,  # Randomly zoom images by 10%\n",
        "        brightness_range=[0.8, 1.2]  # Randomly adjust the brightness\n",
        "    )\n",
        "\n",
        "    file_list = os.listdir(input_dir)\n",
        "    total_imgs = len(file_list) # total number of images in the given directory\n",
        "\n",
        "    while total_imgs != 501:\n",
        "        random_img = random.choice(file_list)\n",
        "        img_path = os.path.join(input_dir, random_img)\n",
        "        img = cv2.imread(img_path)\n",
        "\n",
        "        # img = img.reshape((1,) + img.shape)\n",
        "        if img is not None:\n",
        "          # Perform image processing operations\n",
        "          img = img.reshape((1,) + img.shape)\n",
        "\n",
        "        aug_imgs = datagen.flow(img, batch_size=1, save_to_dir=output_dir, save_format='png', save_prefix='aug')\n",
        "        aug_img = aug_imgs.next()\n",
        "        total_imgs+=1"
      ],
      "metadata": {
        "id": "KZjZ7-t-J0IK"
      },
      "execution_count": null,
      "outputs": []
    },
    {
      "cell_type": "code",
      "source": [
        "source_folder = \"/tmp2/eAuto_photos2/photos/\"\n",
        "\n",
        "for root, dirs, files in os.walk(source_folder):\n",
        "    for dir in dirs:\n",
        "      augment_images(dir)"
      ],
      "metadata": {
        "id": "QbnVPDSzL46Z"
      },
      "execution_count": null,
      "outputs": []
    },
    {
      "cell_type": "code",
      "source": [
        "main_folder_path = '/tmp2/eAuto_photos2/photos/'\n",
        "\n",
        "# Create empty lists to store folder names and counts\n",
        "folder_names = []\n",
        "num_files_list = []\n",
        "\n",
        "# Iterate over subfolders\n",
        "for root, dirs, files in os.walk(main_folder_path):\n",
        "    for dir in dirs:\n",
        "        folder_path = os.path.join(root, dir)\n",
        "        num_files = count_files_in_folder(folder_path)\n",
        "\n",
        "        folder_names.append(folder_path)\n",
        "        num_files_list.append(num_files)\n",
        "\n",
        "# Create a DataFrame to display the results\n",
        "df = pd.DataFrame({'Folder': folder_names, 'Num Filess': num_files_list})\n",
        "\n",
        "# Display the DataFrame\n",
        "print(df)"
      ],
      "metadata": {
        "colab": {
          "base_uri": "https://localhost:8080/"
        },
        "id": "YEwRvsBvtLn7",
        "outputId": "b2697ffd-53e1-41ab-a94a-661b2ad2da96"
      },
      "execution_count": null,
      "outputs": [
        {
          "output_type": "stream",
          "name": "stdout",
          "text": [
            "                                  Folder  Num Filess\n",
            "0        /tmp2/eAuto_photos2/photos/Ford         345\n",
            "1  /tmp2/eAuto_photos2/photos/Volkswagen         221\n",
            "2        /tmp2/eAuto_photos2/photos/Tata         184\n",
            "3     /tmp2/eAuto_photos2/photos/Hyundai         392\n",
            "4      /tmp2/eAuto_photos2/photos/Toyota         330\n",
            "5      /tmp2/eAuto_photos2/photos/Suzuki         268\n",
            "6      /tmp2/eAuto_photos2/photos/Honday          37\n",
            "7      /tmp2/eAuto_photos2/photos/Nissan         319\n",
            "8     /tmp2/eAuto_photos2/photos/Renault         373\n"
          ]
        }
      ]
    },
    {
      "cell_type": "markdown",
      "source": [
        "![prev.jpg](data:image/jpeg;base64,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)"
      ],
      "metadata": {
        "id": "aMSNntPGTb6I"
      }
    },
    {
      "cell_type": "code",
      "source": [
        "main_folder_path = '/tmp2/eAuto_photos2/photos/'\n",
        "\n",
        "# Create empty lists to store folder names and counts\n",
        "folder_names = []\n",
        "num_files_list = []\n",
        "\n",
        "# Iterate over subfolders\n",
        "for root, dirs, files in os.walk(main_folder_path):\n",
        "    for dir in dirs:\n",
        "        folder_path = os.path.join(root, dir)\n",
        "        num_files = count_files_in_folder(folder_path)\n",
        "\n",
        "        folder_names.append(folder_path)\n",
        "        num_files_list.append(num_files)\n",
        "\n",
        "# Create a DataFrame to display the results\n",
        "df = pd.DataFrame({'Folder': folder_names, 'Num Filess': num_files_list})\n",
        "\n",
        "# Display the DataFrame\n",
        "print(df)"
      ],
      "metadata": {
        "colab": {
          "base_uri": "https://localhost:8080/"
        },
        "id": "Jaga7pDlOu3b",
        "outputId": "0d739076-3094-4258-db02-57c668c573d0"
      },
      "execution_count": null,
      "outputs": [
        {
          "output_type": "stream",
          "name": "stdout",
          "text": [
            "                                  Folder  Num Filess\n",
            "0        /tmp2/eAuto_photos2/photos/Ford         501\n",
            "1  /tmp2/eAuto_photos2/photos/Volkswagen         501\n",
            "2        /tmp2/eAuto_photos2/photos/Tata         501\n",
            "3     /tmp2/eAuto_photos2/photos/Hyundai         501\n",
            "4      /tmp2/eAuto_photos2/photos/Toyota         499\n",
            "5      /tmp2/eAuto_photos2/photos/Suzuki         498\n",
            "6      /tmp2/eAuto_photos2/photos/Honday         490\n",
            "7      /tmp2/eAuto_photos2/photos/Nissan         500\n",
            "8     /tmp2/eAuto_photos2/photos/Renault         501\n"
          ]
        }
      ]
    },
    {
      "cell_type": "markdown",
      "source": [
        "# **Data Augmentation has been implemented !**"
      ],
      "metadata": {
        "id": "04gv-82AVsgi"
      }
    },
    {
      "cell_type": "markdown",
      "source": [
        "# **BEFORE AUGMENTATIO NO OF PHOTOS=2469**\n",
        "# **AFTER AUGMENTATION NO OF PHOTOS=4492**"
      ],
      "metadata": {
        "id": "Zk3u679FWb8O"
      }
    },
    {
      "cell_type": "markdown",
      "source": [
        "PROBLEMS FACED"
      ],
      "metadata": {
        "id": "LRbNJ-jhXFtb"
      }
    },
    {
      "cell_type": "markdown",
      "source": [
        "<ipython-input-13-c028ccf157a6> in augment_images(dir_name)\n",
        "     21         img = cv2.imread(img_path)\n",
        "     22\n",
        "---> 23         img = img.reshape((1,) + img.shape)\n",
        "     24         aug_imgs = datagen.flow(img, batch_size=1, save_to_dir=output_dir, save_format='png', save_prefix='aug')\n",
        "     25         aug_img = aug_imgs.next()\n",
        "\n",
        "AttributeError: 'NoneType' object has no attribute 'reshape'\n",
        "\n",
        "\n",
        "\n",
        "---\n",
        "\n",
        "\n",
        "\n",
        "---\n",
        "SOLUTION:\n",
        " if img is not None:\n",
        "          # Perform image processing operations\n",
        "          img = img.reshape((1,) + img.shape)\n",
        "    \n"
      ],
      "metadata": {
        "id": "Z19HeL4UXV4K"
      }
    },
    {
      "cell_type": "markdown",
      "source": [
        "\n",
        "\n",
        "---\n",
        "\n",
        "\n",
        "\n",
        "---\n",
        "# **TASK 3**\n",
        "\n",
        "\n",
        "\n",
        "---\n",
        "\n",
        "---\n",
        "\n"
      ],
      "metadata": {
        "id": "yCWi7rREMWyL"
      }
    },
    {
      "cell_type": "markdown",
      "source": [
        "# I have chosen to use CNN MODEL to recognize the car brand\n",
        "\n",
        "Reasons to choose CNN:\n",
        "\n",
        "\n",
        "\n",
        "---\n",
        "\n",
        "\n",
        "\n",
        "\n",
        "* **Spatial Hierarchical Features:** CNNs excel at capturing complex visual patterns, making them ideal for recognizing distinctive car features like wheels, windows, and headlights.\n",
        "\n",
        "* **Translation Invariance:** CNNs can identify car features regardless of their position in the image, accommodating variations in car placement.\n",
        "\n",
        "* **Parameter Sharing:** CNNs reduce the number of parameters, making them efficient for processing large car images without excessive computational resources.\n",
        "\n",
        "* **Hierarchical Learning:** CNNs learn hierarchical representations, gradually capturing simple to complex features in car images.\n",
        "\n",
        "* **Robustness to Variations:** CNNs are robust to lighting, orientation, and occlusion variations, enabling accurate classification of cars in real-world scenarios.\n"
      ],
      "metadata": {
        "id": "iN8DDRVITyb3"
      }
    },
    {
      "cell_type": "code",
      "source": [
        "import numpy as np\n",
        "import tensorflow as tf\n",
        "tf.keras.layers.BatchNormalization\n",
        "#from keras.layers.normalization import BatchNormalization\n",
        "\n",
        "from tensorflow import keras\n",
        "import pickle\n",
        "import cv2\n",
        "from os import listdir\n",
        "from sklearn.preprocessing import LabelBinarizer\n",
        "from sklearn.preprocessing import Binarizer\n",
        "#from keras.layers.normalization import tf.keras.layers.BatchNormalization\n",
        "from keras.layers.convolutional import Conv2D\n",
        "from keras.layers.convolutional import MaxPooling2D\n",
        "from keras.layers.core import Activation, Flatten, Dropout, Dense\n",
        "from keras import backend as K\n",
        "from keras.preprocessing.image import ImageDataGenerator\n",
        "from keras.optimizers import Adam\n",
        "from keras.preprocessing import image\n",
        "keras.preprocessing.image.img_to_array\n",
        "from keras import preprocessing\n",
        "from tensorflow.keras.utils import img_to_array\n",
        "\n",
        "from sklearn.preprocessing import MultiLabelBinarizer\n",
        "from sklearn.model_selection import train_test_split\n",
        "import matplotlib.pyplot as plt\n"
      ],
      "metadata": {
        "id": "xNhlX4h9X2xC"
      },
      "execution_count": null,
      "outputs": []
    },
    {
      "cell_type": "code",
      "source": [
        "EPOCHS = 25\n",
        "INIT_LR = 1e-3\n",
        "BS = 32\n",
        "default_image_size = tuple((256, 256))\n",
        "image_size = 0\n",
        "directory_root = '/tmp2/eAuto_photos2/'\n",
        "width=256\n",
        "height=256\n",
        "depth=3"
      ],
      "metadata": {
        "id": "alHw4L0EX8n7"
      },
      "execution_count": null,
      "outputs": []
    },
    {
      "cell_type": "code",
      "source": [
        "def convert_image_to_array(image_dir):\n",
        "    default_image_size = (256, 256)\n",
        "    try:\n",
        "        image = cv2.imread(image_dir)\n",
        "        if image is not None :\n",
        "            image = cv2.resize(image, default_image_size)\n",
        "            return tf.keras.preprocessing.image.img_to_array(image)\n",
        "        else :\n",
        "            return np.array([])\n",
        "    except Exception as e:\n",
        "        print(f\"Error : {e}\")\n",
        "        return None"
      ],
      "metadata": {
        "id": "Hjhq-I56Yx65"
      },
      "execution_count": null,
      "outputs": []
    },
    {
      "cell_type": "code",
      "source": [
        "image_list, label_list = [], []\n",
        "try:\n",
        "    print(\"[INFO] Loading images ...\")\n",
        "    root_dir = listdir(directory_root)\n",
        "    for directory in root_dir :\n",
        "        # remove .DS_Store from list\n",
        "        if directory == \".DS_Store\" :\n",
        "            root_dir.remove(directory)\n",
        "    print(root_dir)\n",
        "    print(f\"{directory_root}\")\n",
        "    for i in range(1) :\n",
        "        car_folder_list = listdir(f\"{directory_root}/{'photos'}\")\n",
        "        #print(plant_disease_folder_list)\n",
        "\n",
        "#         for disease_folder in plant_disease_folder_list :\n",
        "#             # remove .DS_Store from list\n",
        "#             if disease_folder == \".DS_Store\" :\n",
        "#                 plant_disease_folder_list.remove(disease_folder)\n",
        "#         print()\n",
        "        for car_folder in car_folder_list:\n",
        "            print(f\"[INFO] Processing {car_folder} ...\")\n",
        "            car_image_list = listdir(f\"{directory_root}/{'photos'}/{car_folder}\")\n",
        "\n",
        "            for single_car_image in car_image_list :\n",
        "                if single_car_image == \".DS_Store\" :\n",
        "                    car_image_list.remove(single_car_image)\n",
        "            #print(plant_disease_image_list[:5])\n",
        "\n",
        "            for image in car_image_list[:200]:\n",
        "                image_directory = f\"{directory_root}/{'photos'}/{car_folder}/{image}\"\n",
        "                if image_directory.endswith(\".png\") == True or image_directory.endswith(\".PNG\") == True:\n",
        "                    image_list.append(convert_image_to_array(image_directory))\n",
        "                    label_list.append(car_folder)\n",
        "    print(\"[INFO] Image loading completed\")\n",
        "except Exception as e:\n",
        "    print(f\"Error : {e}\")"
      ],
      "metadata": {
        "colab": {
          "base_uri": "https://localhost:8080/"
        },
        "id": "2VXvm-nvY11Z",
        "outputId": "ffde7ba3-f94d-4bfe-95e4-3724a730631d"
      },
      "execution_count": null,
      "outputs": [
        {
          "output_type": "stream",
          "name": "stdout",
          "text": [
            "[INFO] Loading images ...\n",
            "Error : [Errno 2] No such file or directory: '/tmp2/eAuto_photos2/'\n"
          ]
        }
      ]
    },
    {
      "cell_type": "code",
      "source": [
        "image_size = len(image_list)\n",
        "image_size"
      ],
      "metadata": {
        "colab": {
          "base_uri": "https://localhost:8080/"
        },
        "id": "mciOxJCSag_f",
        "outputId": "d7355ed5-cf91-4731-e758-b8b498ff332c"
      },
      "execution_count": null,
      "outputs": [
        {
          "output_type": "execute_result",
          "data": {
            "text/plain": [
              "0"
            ]
          },
          "metadata": {},
          "execution_count": 5
        }
      ]
    },
    {
      "cell_type": "code",
      "source": [
        "label_binarizer = LabelBinarizer()\n",
        "image_labels = label_binarizer.fit_transform(label_list)\n",
        "pickle.dump(label_binarizer,open('label_transform.pkl', 'wb'))\n",
        "n_classes = len(label_binarizer.classes_)"
      ],
      "metadata": {
        "id": "GYbOvfGGprP4",
        "colab": {
          "base_uri": "https://localhost:8080/",
          "height": 363
        },
        "outputId": "e35d4fca-711a-4b2f-de6b-255b7c5e68fc"
      },
      "execution_count": null,
      "outputs": [
        {
          "output_type": "error",
          "ename": "ValueError",
          "evalue": "ignored",
          "traceback": [
            "\u001b[0;31m---------------------------------------------------------------------------\u001b[0m",
            "\u001b[0;31mValueError\u001b[0m                                Traceback (most recent call last)",
            "\u001b[0;32m<ipython-input-6-da631c6e3da1>\u001b[0m in \u001b[0;36m<cell line: 2>\u001b[0;34m()\u001b[0m\n\u001b[1;32m      1\u001b[0m \u001b[0mlabel_binarizer\u001b[0m \u001b[0;34m=\u001b[0m \u001b[0mLabelBinarizer\u001b[0m\u001b[0;34m(\u001b[0m\u001b[0;34m)\u001b[0m\u001b[0;34m\u001b[0m\u001b[0;34m\u001b[0m\u001b[0m\n\u001b[0;32m----> 2\u001b[0;31m \u001b[0mimage_labels\u001b[0m \u001b[0;34m=\u001b[0m \u001b[0mlabel_binarizer\u001b[0m\u001b[0;34m.\u001b[0m\u001b[0mfit_transform\u001b[0m\u001b[0;34m(\u001b[0m\u001b[0mlabel_list\u001b[0m\u001b[0;34m)\u001b[0m\u001b[0;34m\u001b[0m\u001b[0;34m\u001b[0m\u001b[0m\n\u001b[0m\u001b[1;32m      3\u001b[0m \u001b[0mpickle\u001b[0m\u001b[0;34m.\u001b[0m\u001b[0mdump\u001b[0m\u001b[0;34m(\u001b[0m\u001b[0mlabel_binarizer\u001b[0m\u001b[0;34m,\u001b[0m\u001b[0mopen\u001b[0m\u001b[0;34m(\u001b[0m\u001b[0;34m'label_transform.pkl'\u001b[0m\u001b[0;34m,\u001b[0m \u001b[0;34m'wb'\u001b[0m\u001b[0;34m)\u001b[0m\u001b[0;34m)\u001b[0m\u001b[0;34m\u001b[0m\u001b[0;34m\u001b[0m\u001b[0m\n\u001b[1;32m      4\u001b[0m \u001b[0mn_classes\u001b[0m \u001b[0;34m=\u001b[0m \u001b[0mlen\u001b[0m\u001b[0;34m(\u001b[0m\u001b[0mlabel_binarizer\u001b[0m\u001b[0;34m.\u001b[0m\u001b[0mclasses_\u001b[0m\u001b[0;34m)\u001b[0m\u001b[0;34m\u001b[0m\u001b[0;34m\u001b[0m\u001b[0m\n",
            "\u001b[0;32m/usr/local/lib/python3.10/dist-packages/sklearn/utils/_set_output.py\u001b[0m in \u001b[0;36mwrapped\u001b[0;34m(self, X, *args, **kwargs)\u001b[0m\n\u001b[1;32m    138\u001b[0m     \u001b[0;34m@\u001b[0m\u001b[0mwraps\u001b[0m\u001b[0;34m(\u001b[0m\u001b[0mf\u001b[0m\u001b[0;34m)\u001b[0m\u001b[0;34m\u001b[0m\u001b[0;34m\u001b[0m\u001b[0m\n\u001b[1;32m    139\u001b[0m     \u001b[0;32mdef\u001b[0m \u001b[0mwrapped\u001b[0m\u001b[0;34m(\u001b[0m\u001b[0mself\u001b[0m\u001b[0;34m,\u001b[0m \u001b[0mX\u001b[0m\u001b[0;34m,\u001b[0m \u001b[0;34m*\u001b[0m\u001b[0margs\u001b[0m\u001b[0;34m,\u001b[0m \u001b[0;34m**\u001b[0m\u001b[0mkwargs\u001b[0m\u001b[0;34m)\u001b[0m\u001b[0;34m:\u001b[0m\u001b[0;34m\u001b[0m\u001b[0;34m\u001b[0m\u001b[0m\n\u001b[0;32m--> 140\u001b[0;31m         \u001b[0mdata_to_wrap\u001b[0m \u001b[0;34m=\u001b[0m \u001b[0mf\u001b[0m\u001b[0;34m(\u001b[0m\u001b[0mself\u001b[0m\u001b[0;34m,\u001b[0m \u001b[0mX\u001b[0m\u001b[0;34m,\u001b[0m \u001b[0;34m*\u001b[0m\u001b[0margs\u001b[0m\u001b[0;34m,\u001b[0m \u001b[0;34m**\u001b[0m\u001b[0mkwargs\u001b[0m\u001b[0;34m)\u001b[0m\u001b[0;34m\u001b[0m\u001b[0;34m\u001b[0m\u001b[0m\n\u001b[0m\u001b[1;32m    141\u001b[0m         \u001b[0;32mif\u001b[0m \u001b[0misinstance\u001b[0m\u001b[0;34m(\u001b[0m\u001b[0mdata_to_wrap\u001b[0m\u001b[0;34m,\u001b[0m \u001b[0mtuple\u001b[0m\u001b[0;34m)\u001b[0m\u001b[0;34m:\u001b[0m\u001b[0;34m\u001b[0m\u001b[0;34m\u001b[0m\u001b[0m\n\u001b[1;32m    142\u001b[0m             \u001b[0;31m# only wrap the first output for cross decomposition\u001b[0m\u001b[0;34m\u001b[0m\u001b[0;34m\u001b[0m\u001b[0m\n",
            "\u001b[0;32m/usr/local/lib/python3.10/dist-packages/sklearn/preprocessing/_label.py\u001b[0m in \u001b[0;36mfit_transform\u001b[0;34m(self, y)\u001b[0m\n\u001b[1;32m    332\u001b[0m             \u001b[0mwill\u001b[0m \u001b[0mbe\u001b[0m \u001b[0mof\u001b[0m \u001b[0mCSR\u001b[0m \u001b[0mformat\u001b[0m\u001b[0;34m.\u001b[0m\u001b[0;34m\u001b[0m\u001b[0;34m\u001b[0m\u001b[0m\n\u001b[1;32m    333\u001b[0m         \"\"\"\n\u001b[0;32m--> 334\u001b[0;31m         \u001b[0;32mreturn\u001b[0m \u001b[0mself\u001b[0m\u001b[0;34m.\u001b[0m\u001b[0mfit\u001b[0m\u001b[0;34m(\u001b[0m\u001b[0my\u001b[0m\u001b[0;34m)\u001b[0m\u001b[0;34m.\u001b[0m\u001b[0mtransform\u001b[0m\u001b[0;34m(\u001b[0m\u001b[0my\u001b[0m\u001b[0;34m)\u001b[0m\u001b[0;34m\u001b[0m\u001b[0;34m\u001b[0m\u001b[0m\n\u001b[0m\u001b[1;32m    335\u001b[0m \u001b[0;34m\u001b[0m\u001b[0m\n\u001b[1;32m    336\u001b[0m     \u001b[0;32mdef\u001b[0m \u001b[0mtransform\u001b[0m\u001b[0;34m(\u001b[0m\u001b[0mself\u001b[0m\u001b[0;34m,\u001b[0m \u001b[0my\u001b[0m\u001b[0;34m)\u001b[0m\u001b[0;34m:\u001b[0m\u001b[0;34m\u001b[0m\u001b[0;34m\u001b[0m\u001b[0m\n",
            "\u001b[0;32m/usr/local/lib/python3.10/dist-packages/sklearn/preprocessing/_label.py\u001b[0m in \u001b[0;36mfit\u001b[0;34m(self, y)\u001b[0m\n\u001b[1;32m    306\u001b[0m             )\n\u001b[1;32m    307\u001b[0m         \u001b[0;32mif\u001b[0m \u001b[0m_num_samples\u001b[0m\u001b[0;34m(\u001b[0m\u001b[0my\u001b[0m\u001b[0;34m)\u001b[0m \u001b[0;34m==\u001b[0m \u001b[0;36m0\u001b[0m\u001b[0;34m:\u001b[0m\u001b[0;34m\u001b[0m\u001b[0;34m\u001b[0m\u001b[0m\n\u001b[0;32m--> 308\u001b[0;31m             \u001b[0;32mraise\u001b[0m \u001b[0mValueError\u001b[0m\u001b[0;34m(\u001b[0m\u001b[0;34m\"y has 0 samples: %r\"\u001b[0m \u001b[0;34m%\u001b[0m \u001b[0my\u001b[0m\u001b[0;34m)\u001b[0m\u001b[0;34m\u001b[0m\u001b[0;34m\u001b[0m\u001b[0m\n\u001b[0m\u001b[1;32m    309\u001b[0m \u001b[0;34m\u001b[0m\u001b[0m\n\u001b[1;32m    310\u001b[0m         \u001b[0mself\u001b[0m\u001b[0;34m.\u001b[0m\u001b[0msparse_input_\u001b[0m \u001b[0;34m=\u001b[0m \u001b[0msp\u001b[0m\u001b[0;34m.\u001b[0m\u001b[0missparse\u001b[0m\u001b[0;34m(\u001b[0m\u001b[0my\u001b[0m\u001b[0;34m)\u001b[0m\u001b[0;34m\u001b[0m\u001b[0;34m\u001b[0m\u001b[0m\n",
            "\u001b[0;31mValueError\u001b[0m: y has 0 samples: []"
          ]
        }
      ]
    },
    {
      "cell_type": "code",
      "source": [
        "print(label_binarizer.classes_)"
      ],
      "metadata": {
        "id": "Jiwfu_Blpv3J"
      },
      "execution_count": null,
      "outputs": []
    },
    {
      "cell_type": "code",
      "source": [
        "np_image_list = np.array(image_list, dtype=np.float16) / 225.0"
      ],
      "metadata": {
        "id": "mU2XYjOLpx5l"
      },
      "execution_count": null,
      "outputs": []
    },
    {
      "cell_type": "code",
      "source": [
        "print(\"[INFO] Spliting data to train, test\")\n",
        "x_train, x_test, y_train, y_test = train_test_split(np_image_list, image_labels, test_size=0.2, random_state = 42)"
      ],
      "metadata": {
        "id": "h9VmGGBkp4cB"
      },
      "execution_count": null,
      "outputs": []
    },
    {
      "cell_type": "code",
      "source": [
        "aug = ImageDataGenerator(\n",
        "    rotation_range=25, width_shift_range=0.1,\n",
        "    height_shift_range=0.1, shear_range=0.2,\n",
        "    zoom_range=0.2,horizontal_flip=True,\n",
        "    fill_mode=\"nearest\")"
      ],
      "metadata": {
        "id": "kF9sLwaOp9UO"
      },
      "execution_count": null,
      "outputs": []
    },
    {
      "cell_type": "code",
      "source": [
        "model = keras.Sequential()\n",
        "inputShape = (height, width, depth)\n",
        "chanDim = -1\n",
        "if K.image_data_format() == \"channels_first\":\n",
        "    inputShape = (depth, height, width)\n",
        "    chanDim = 1\n",
        "model.add(Conv2D(32, (3, 3), padding=\"same\",input_shape=inputShape))\n",
        "model.add(Activation(\"relu\"))\n",
        "model.add(tf.keras.layers.BatchNormalization(axis=chanDim))\n",
        "model.add(MaxPooling2D(pool_size=(3, 3)))\n",
        "model.add(Dropout(0.25))\n",
        "model.add(Conv2D(64, (3, 3), padding=\"same\"))\n",
        "model.add(Activation(\"relu\"))\n",
        "model.add(tf.keras.layers.BatchNormalization(axis=chanDim))\n",
        "model.add(Conv2D(64, (3, 3), padding=\"same\"))\n",
        "model.add(Activation(\"relu\"))\n",
        "model.add(tf.keras.layers.BatchNormalization(axis=chanDim))\n",
        "model.add(MaxPooling2D(pool_size=(2, 2)))\n",
        "model.add(Dropout(0.25))\n",
        "model.add(Conv2D(128, (3, 3), padding=\"same\"))\n",
        "model.add(Activation(\"relu\"))\n",
        "model.add(tf.keras.layers.BatchNormalization(axis=chanDim))\n",
        "model.add(Conv2D(128, (3, 3), padding=\"same\"))\n",
        "model.add(Activation(\"relu\"))\n",
        "model.add(tf.keras.layers.BatchNormalization(axis=chanDim))\n",
        "model.add(MaxPooling2D(pool_size=(2, 2)))\n",
        "model.add(Dropout(0.25))\n",
        "model.add(Flatten())\n",
        "model.add(Dense(1024))\n",
        "model.add(Activation(\"relu\"))\n",
        "model.add(tf.keras.layers.BatchNormalization())\n",
        "model.add(Dropout(0.5))\n",
        "model.add(Dense(n_classes))\n",
        "model.add(Activation(\"softmax\"))"
      ],
      "metadata": {
        "id": "I5Vz__4hqArn"
      },
      "execution_count": null,
      "outputs": []
    },
    {
      "cell_type": "code",
      "source": [
        "model.summary()"
      ],
      "metadata": {
        "id": "t_Co2KIkqDvj"
      },
      "execution_count": null,
      "outputs": []
    },
    {
      "cell_type": "code",
      "source": [
        "# opt = Adam(lr=INIT_LR, decay=INIT_LR / EPOCHS)\n",
        "# # distribution\n",
        "model.compile(loss=\"binary_crossentropy\", optimizer='Adam',metrics=[\"accuracy\"])\n",
        "# train the network\n",
        "print(\"[INFO] training network...\")"
      ],
      "metadata": {
        "colab": {
          "base_uri": "https://localhost:8080/"
        },
        "id": "TdG9zHLeqIPy",
        "outputId": "b46a6f56-4d86-49a5-9f8d-920cb8fb50c8"
      },
      "execution_count": null,
      "outputs": [
        {
          "output_type": "stream",
          "name": "stdout",
          "text": [
            "[INFO] training network...\n"
          ]
        }
      ]
    },
    {
      "cell_type": "code",
      "source": [
        "history = model.fit(\n",
        "    x_train,y_train,epochs=1\n",
        "    )"
      ],
      "metadata": {
        "colab": {
          "base_uri": "https://localhost:8080/"
        },
        "id": "8h3nGJ3TqK2W",
        "outputId": "6f9db91d-6b98-4a5d-bb7a-ae08de00806c"
      },
      "execution_count": null,
      "outputs": [
        {
          "output_type": "stream",
          "name": "stdout",
          "text": [
            "3/3 [==============================] - 16s 4s/step - loss: 1.2177 - accuracy: 0.1970\n"
          ]
        }
      ]
    },
    {
      "cell_type": "code",
      "source": [
        "print(\"[INFO] Calculating model accuracy\")\n",
        "scores = model.evaluate(x_test, y_test)\n",
        "print(f\"Test Accuracy: {scores[1]*100}\")"
      ],
      "metadata": {
        "colab": {
          "base_uri": "https://localhost:8080/"
        },
        "id": "FbGyg9XGqNQq",
        "outputId": "e785dd70-3b15-47bd-b416-4d745f57a993"
      },
      "execution_count": null,
      "outputs": [
        {
          "output_type": "stream",
          "name": "stdout",
          "text": [
            "[INFO] Calculating model accuracy\n",
            "1/1 [==============================] - 1s 836ms/step - loss: 0.7076 - accuracy: 0.1176\n",
            "Test Accuracy: 11.764705926179886\n"
          ]
        }
      ]
    },
    {
      "cell_type": "code",
      "source": [
        "import pickle"
      ],
      "metadata": {
        "id": "SNtOj34C7Nx4"
      },
      "execution_count": null,
      "outputs": []
    },
    {
      "cell_type": "code",
      "source": [
        "print(\"[INFO] Saving model...\")\n",
        "#model_path = '/model.pkl'\n",
        "\n",
        "model.save('car_model.h5')\n"
      ],
      "metadata": {
        "colab": {
          "base_uri": "https://localhost:8080/"
        },
        "id": "qDeXMGAtrqQu",
        "outputId": "bb2990cb-bbb3-4bed-98d0-c95d410088a4"
      },
      "execution_count": null,
      "outputs": [
        {
          "output_type": "stream",
          "name": "stdout",
          "text": [
            "[INFO] Saving model...\n"
          ]
        }
      ]
    },
    {
      "cell_type": "code",
      "source": [
        "import os\n",
        "\n",
        "model_file = 'car_model.h5'\n",
        "current_directory = os.getcwd()\n",
        "model_path = os.path.join(current_directory, model_file)\n",
        "\n",
        "if os.path.exists(model_path):\n",
        "    print(f\"The model file '{model_file}' exists in the current directory.\")\n",
        "else:\n",
        "    print(f\"The model file '{model_file}' does not exist in the current directory.\")\n",
        "\n",
        "print(model_path)\n"
      ],
      "metadata": {
        "colab": {
          "base_uri": "https://localhost:8080/"
        },
        "id": "g3vjIvH4vsfx",
        "outputId": "46ef9387-da1d-4c83-f377-e652e3b51b72"
      },
      "execution_count": null,
      "outputs": [
        {
          "output_type": "stream",
          "name": "stdout",
          "text": [
            "The model file 'car_model.h5' exists in the current directory.\n",
            "/content/car_model.h5\n"
          ]
        }
      ]
    },
    {
      "cell_type": "code",
      "source": [
        "loaded_model = pickle.load(open('label_transform.pkl', 'rb'))"
      ],
      "metadata": {
        "id": "KKOqRwFprv6_"
      },
      "execution_count": null,
      "outputs": []
    },
    {
      "cell_type": "code",
      "source": [
        "loaded_model = pickle.load(open('/content/cnn_model.pkl', 'rb'))"
      ],
      "metadata": {
        "id": "Z4W-aL3U0WOY"
      },
      "execution_count": null,
      "outputs": []
    },
    {
      "cell_type": "code",
      "source": [
        "image_dir=\"/content/frontfacingHyundaicar7.jpeg\"\n",
        "\n",
        "im=convert_image_to_array(image_dir)\n",
        "np_image_li = np.array(im, dtype=np.float16) / 225.0\n",
        "npp_image = np.expand_dims(np_image_li, axis=0)\n",
        "npp_image.shape"
      ],
      "metadata": {
        "colab": {
          "base_uri": "https://localhost:8080/"
        },
        "id": "Vx4gQKjBqZP_",
        "outputId": "58c03296-29e9-4ed9-ce89-72b48d168a9a"
      },
      "execution_count": null,
      "outputs": [
        {
          "output_type": "execute_result",
          "data": {
            "text/plain": [
              "(1, 256, 256, 3)"
            ]
          },
          "metadata": {},
          "execution_count": 53
        }
      ]
    },
    {
      "cell_type": "code",
      "source": [
        "import os\n",
        "\n",
        "file_path = '/content/car_model.h5'  # Update with the correct file path\n",
        "\n",
        "if os.path.exists(file_path):\n",
        "    if os.access(file_path, os.R_OK):\n",
        "        print(\"File exists and has read permissions.\")\n",
        "    else:\n",
        "        print(\"File exists but does not have read permissions.\")\n",
        "else:\n",
        "    print(\"File does not exist.\")"
      ],
      "metadata": {
        "colab": {
          "base_uri": "https://localhost:8080/"
        },
        "id": "YgpaMPCMJo8d",
        "outputId": "88c49e19-e50a-4b9b-9d18-f139b57ee0c8"
      },
      "execution_count": null,
      "outputs": [
        {
          "output_type": "stream",
          "name": "stdout",
          "text": [
            "File exists and has read permissions.\n"
          ]
        }
      ]
    },
    {
      "cell_type": "code",
      "source": [
        "if npp_image is not None and npp_image.shape[0] != 0:\n",
        "    # Expand dimensions to match the expected input shape of the model\n",
        "    npp_image = np.expand_dims(npp_image, axis=0)\n",
        "\n",
        "    # Load and use the sequential model\n",
        "    curr_dir=os.getcwd()\n",
        "    model = tf.keras.models.load_model('/content/car_model.h5')\n",
        "    #npp_image = np.squeeze(npp_image, axis=0)\n",
        "\n",
        "    result = model.predict(npp_image)\n",
        "\n",
        "    # Print the maximum prediction score and the full prediction array\n",
        "    print(max(result[0]))\n",
        "    print(result[0])\n",
        "else:\n",
        "    print(\"Error: Image conversion failed or empty array.\")"
      ],
      "metadata": {
        "colab": {
          "base_uri": "https://localhost:8080/"
        },
        "id": "2rv_J2TZut3c",
        "outputId": "4d97dfd3-2996-400e-e002-4a5b3d378d15"
      },
      "execution_count": null,
      "outputs": [
        {
          "output_type": "stream",
          "name": "stdout",
          "text": [
            "1/1 [==============================] - 0s 194ms/step\n",
            "0.33759698\n",
            "[0.02773857 0.08364464 0.33759698 0.08194254 0.09691073 0.0561595\n",
            " 0.08274645 0.13034494 0.10291561]\n"
          ]
        }
      ]
    },
    {
      "cell_type": "code",
      "source": [
        "itemindex = np.where(result==np.max(result))\n",
        "print(\"probability:\"+str(np.max(result))+\"\\n\"+label_binarizer.classes_[itemindex[1][0]])"
      ],
      "metadata": {
        "colab": {
          "base_uri": "https://localhost:8080/"
        },
        "id": "MV-Dma47rEGS",
        "outputId": "671afbfe-2165-4b6b-d0c5-67b5abe8940f"
      },
      "execution_count": null,
      "outputs": [
        {
          "output_type": "stream",
          "name": "stdout",
          "text": [
            "probability:0.33759698\n",
            "Hyundai\n"
          ]
        }
      ]
    },
    {
      "cell_type": "code",
      "source": [
        "print(\"Plotting accuracy versus epoch\")\n",
        "plt.plot(history.history['accuracy'], label='accuracy')\n",
        "plt.plot(history.history['val_accuracy'], label = 'val_accuracy')\n",
        "plt.xlabel('Epoch')\n",
        "plt.ylabel('Accuracy')\n",
        "plt.ylim([0.5, 1])\n",
        "plt.legend(loc='lower right')\n",
        "print(\"The model is being evaluated\")\n",
        "test_loss, test_acc = model.evaluate(x_test,y_test, verbose=2)\n",
        "print(\"The accuracy of the model is:\")\n",
        "print(test_acc)"
      ],
      "metadata": {
        "id": "wS3B1NCsXeMd"
      },
      "execution_count": null,
      "outputs": []
    },
    {
      "cell_type": "markdown",
      "source": [
        "# **DUE TO JUST 1 EPOCH,AND IMAGES NOT AUGMENTED,THE MODEL HAS AN ACCURACY OF 19% AND PREDICTS THE HYUNDAI CAR CORRECTLY WITH A PROBABILITY OF 33.7%**"
      ],
      "metadata": {
        "id": "uqUtRHSRNjpG"
      }
    },
    {
      "cell_type": "markdown",
      "source": [],
      "metadata": {
        "id": "z6tcq4uKJVgF"
      }
    }
  ]
}